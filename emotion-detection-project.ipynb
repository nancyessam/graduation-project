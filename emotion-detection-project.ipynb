{
 "cells": [
  {
   "cell_type": "markdown",
   "id": "5c996048",
   "metadata": {
    "jupyter": {
     "source_hidden": true
    },
    "papermill": {
     "duration": 0.007491,
     "end_time": "2023-09-08T16:38:38.300792",
     "exception": false,
     "start_time": "2023-09-08T16:38:38.293301",
     "status": "completed"
    },
    "tags": []
   },
   "source": []
  },
  {
   "cell_type": "code",
   "execution_count": null,
   "id": "14eaa0c3",
   "metadata": {
    "papermill": {
     "duration": 0.005483,
     "end_time": "2023-09-08T16:38:38.312113",
     "exception": false,
     "start_time": "2023-09-08T16:38:38.306630",
     "status": "completed"
    },
    "tags": []
   },
   "outputs": [],
   "source": []
  },
  {
   "cell_type": "code",
   "execution_count": null,
   "id": "d8bfa662",
   "metadata": {
    "papermill": {
     "duration": 0.005308,
     "end_time": "2023-09-08T16:38:38.322917",
     "exception": false,
     "start_time": "2023-09-08T16:38:38.317609",
     "status": "completed"
    },
    "tags": []
   },
   "outputs": [],
   "source": []
  },
  {
   "cell_type": "code",
   "execution_count": 1,
   "id": "0a1fd58a",
   "metadata": {
    "_cell_guid": "b1076dfc-b9ad-4769-8c92-a6c4dae69d19",
    "_uuid": "8f2839f25d086af736a60e9eeb907d3b93b6e0e5",
    "execution": {
     "iopub.execute_input": "2023-09-08T16:38:38.335443Z",
     "iopub.status.busy": "2023-09-08T16:38:38.334998Z",
     "iopub.status.idle": "2023-09-08T16:41:06.336380Z",
     "shell.execute_reply": "2023-09-08T16:41:06.335333Z"
    },
    "papermill": {
     "duration": 148.010699,
     "end_time": "2023-09-08T16:41:06.338996",
     "exception": false,
     "start_time": "2023-09-08T16:38:38.328297",
     "status": "completed"
    },
    "tags": []
   },
   "outputs": [],
   "source": [
    "import os\n",
    "import numpy as np\n",
    "import matplotlib.pyplot as plt\n",
    "x=[]\n",
    "y=[]\n",
    "categories = ['angry','disgusted','fearful','happy','neutral','sad','surprised']\n",
    "for i in range(7):\n",
    "    for dirname, _, filenames in os.walk(f'/kaggle/input/emotion-detection-fer/train/{categories[i]}/'):\n",
    "        for filename in filenames:\n",
    "            x.append(plt.imread(os.path.join(dirname, filename)))\n",
    "            y.append(i)\n",
    "x = np.array(x)\n",
    "y = np.array(y)"
   ]
  },
  {
   "cell_type": "code",
   "execution_count": 2,
   "id": "ae6574df",
   "metadata": {
    "execution": {
     "iopub.execute_input": "2023-09-08T16:41:06.352074Z",
     "iopub.status.busy": "2023-09-08T16:41:06.351770Z",
     "iopub.status.idle": "2023-09-08T16:41:06.356303Z",
     "shell.execute_reply": "2023-09-08T16:41:06.355261Z"
    },
    "papermill": {
     "duration": 0.013656,
     "end_time": "2023-09-08T16:41:06.358727",
     "exception": false,
     "start_time": "2023-09-08T16:41:06.345071",
     "status": "completed"
    },
    "tags": []
   },
   "outputs": [],
   "source": [
    "x = x.reshape(-1, 48, 48, 1)"
   ]
  },
  {
   "cell_type": "code",
   "execution_count": 3,
   "id": "0c861938",
   "metadata": {
    "execution": {
     "iopub.execute_input": "2023-09-08T16:41:06.371743Z",
     "iopub.status.busy": "2023-09-08T16:41:06.370834Z",
     "iopub.status.idle": "2023-09-08T16:41:07.595044Z",
     "shell.execute_reply": "2023-09-08T16:41:07.594059Z"
    },
    "papermill": {
     "duration": 1.233543,
     "end_time": "2023-09-08T16:41:07.597620",
     "exception": false,
     "start_time": "2023-09-08T16:41:06.364077",
     "status": "completed"
    },
    "tags": []
   },
   "outputs": [
    {
     "name": "stderr",
     "output_type": "stream",
     "text": [
      "/opt/conda/lib/python3.10/site-packages/scipy/__init__.py:146: UserWarning: A NumPy version >=1.16.5 and <1.23.0 is required for this version of SciPy (detected version 1.23.5\n",
      "  warnings.warn(f\"A NumPy version >={np_minversion} and <{np_maxversion}\"\n"
     ]
    }
   ],
   "source": [
    "from sklearn.model_selection import train_test_split\n",
    "x_train,x_test,y_train,y_test=train_test_split(x,y)"
   ]
  },
  {
   "cell_type": "code",
   "execution_count": 4,
   "id": "04ddaa0f",
   "metadata": {
    "execution": {
     "iopub.execute_input": "2023-09-08T16:41:07.610589Z",
     "iopub.status.busy": "2023-09-08T16:41:07.610309Z",
     "iopub.status.idle": "2023-09-08T16:41:16.102831Z",
     "shell.execute_reply": "2023-09-08T16:41:16.101838Z"
    },
    "papermill": {
     "duration": 8.501895,
     "end_time": "2023-09-08T16:41:16.105694",
     "exception": false,
     "start_time": "2023-09-08T16:41:07.603799",
     "status": "completed"
    },
    "tags": []
   },
   "outputs": [
    {
     "name": "stderr",
     "output_type": "stream",
     "text": [
      "/opt/conda/lib/python3.10/site-packages/tensorflow_io/python/ops/__init__.py:98: UserWarning: unable to load libtensorflow_io_plugins.so: unable to open file: libtensorflow_io_plugins.so, from paths: ['/opt/conda/lib/python3.10/site-packages/tensorflow_io/python/ops/libtensorflow_io_plugins.so']\n",
      "caused by: ['/opt/conda/lib/python3.10/site-packages/tensorflow_io/python/ops/libtensorflow_io_plugins.so: undefined symbol: _ZN3tsl6StatusC1EN10tensorflow5error4CodeESt17basic_string_viewIcSt11char_traitsIcEENS_14SourceLocationE']\n",
      "  warnings.warn(f\"unable to load libtensorflow_io_plugins.so: {e}\")\n",
      "/opt/conda/lib/python3.10/site-packages/tensorflow_io/python/ops/__init__.py:104: UserWarning: file system plugins are not loaded: unable to open file: libtensorflow_io.so, from paths: ['/opt/conda/lib/python3.10/site-packages/tensorflow_io/python/ops/libtensorflow_io.so']\n",
      "caused by: ['/opt/conda/lib/python3.10/site-packages/tensorflow_io/python/ops/libtensorflow_io.so: undefined symbol: _ZTVN10tensorflow13GcsFileSystemE']\n",
      "  warnings.warn(f\"file system plugins are not loaded: {e}\")\n"
     ]
    }
   ],
   "source": [
    "import tensorflow as tf"
   ]
  },
  {
   "cell_type": "code",
   "execution_count": 5,
   "id": "bcb5e5c3",
   "metadata": {
    "execution": {
     "iopub.execute_input": "2023-09-08T16:41:16.119514Z",
     "iopub.status.busy": "2023-09-08T16:41:16.118829Z",
     "iopub.status.idle": "2023-09-08T16:41:16.124776Z",
     "shell.execute_reply": "2023-09-08T16:41:16.123843Z"
    },
    "papermill": {
     "duration": 0.015416,
     "end_time": "2023-09-08T16:41:16.127334",
     "exception": false,
     "start_time": "2023-09-08T16:41:16.111918",
     "status": "completed"
    },
    "tags": []
   },
   "outputs": [
    {
     "name": "stdout",
     "output_type": "stream",
     "text": [
      "Input image shape: (48, 48, 1)\n"
     ]
    }
   ],
   "source": [
    "import numpy as np\n",
    "\n",
    "# Assuming you have already loaded the images into the `x` array\n",
    "# x = np.array(x)\n",
    "\n",
    "# Get the shape of the `x` array\n",
    "image_shape = x[0].shape  # Assuming the images have the same shape, so we get the shape of the first image\n",
    "\n",
    "print(\"Input image shape:\", image_shape)\n"
   ]
  },
  {
   "cell_type": "code",
   "execution_count": 6,
   "id": "ec8ef0a1",
   "metadata": {
    "execution": {
     "iopub.execute_input": "2023-09-08T16:41:16.140445Z",
     "iopub.status.busy": "2023-09-08T16:41:16.139721Z",
     "iopub.status.idle": "2023-09-08T16:41:16.146192Z",
     "shell.execute_reply": "2023-09-08T16:41:16.145178Z"
    },
    "papermill": {
     "duration": 0.015964,
     "end_time": "2023-09-08T16:41:16.148991",
     "exception": false,
     "start_time": "2023-09-08T16:41:16.133027",
     "status": "completed"
    },
    "tags": []
   },
   "outputs": [
    {
     "name": "stdout",
     "output_type": "stream",
     "text": [
      "Number of images: 28709\n",
      "Image height: 48\n",
      "Image width: 48\n",
      "Number of channels (e.g., 3 for RGB, 1 for grayscale): 1\n"
     ]
    }
   ],
   "source": [
    "# Get the shape of the `x` array\n",
    "num_images, height, width = x.shape[:3]  # Extracting the first three dimensions\n",
    "\n",
    "# If the images are grayscale, there won't be a fourth dimension (channels)\n",
    "# In that case, set channels to 1\n",
    "channels = 1 if len(x.shape) == 3 else x.shape[3]\n",
    "\n",
    "print(\"Number of images:\", num_images)\n",
    "print(\"Image height:\", height)\n",
    "print(\"Image width:\", width)\n",
    "print(\"Number of channels (e.g., 3 for RGB, 1 for grayscale):\", channels)"
   ]
  },
  {
   "cell_type": "code",
   "execution_count": 7,
   "id": "b1efa69b",
   "metadata": {
    "execution": {
     "iopub.execute_input": "2023-09-08T16:41:16.161708Z",
     "iopub.status.busy": "2023-09-08T16:41:16.161416Z",
     "iopub.status.idle": "2023-09-08T16:41:20.721303Z",
     "shell.execute_reply": "2023-09-08T16:41:20.720351Z"
    },
    "papermill": {
     "duration": 4.569024,
     "end_time": "2023-09-08T16:41:20.723689",
     "exception": false,
     "start_time": "2023-09-08T16:41:16.154665",
     "status": "completed"
    },
    "tags": []
   },
   "outputs": [],
   "source": [
    "from keras.models import Sequential\n",
    "from keras.layers import Conv2D, MaxPooling2D, Flatten, Dense, Dropout\n",
    "from keras.regularizers import l2\n",
    "\n",
    "# Define your CNN model with L2 regularization\n",
    "cnn = Sequential([\n",
    "    Conv2D(32, kernel_size=(5, 5), activation='relu', input_shape=(48, 48, 1),kernel_regularizer=l2(0.01)),\n",
    "    MaxPooling2D((2, 2)),\n",
    "    Conv2D(64, kernel_size=(5, 5), activation='relu'),\n",
    "    MaxPooling2D((2, 2)),\n",
    "    Flatten(),\n",
    "    Dense(64, activation='relu',kernel_regularizer=l2(0.01)),\n",
    "    Dense(7, activation='softmax',kernel_regularizer=l2(0.01))\n",
    "])\n",
    "\n",
    "# Compile the model\n",
    "cnn.compile(optimizer='adam', loss='sparse_categorical_crossentropy', metrics=['accuracy'])\n"
   ]
  },
  {
   "cell_type": "code",
   "execution_count": 8,
   "id": "c61a33fd",
   "metadata": {
    "execution": {
     "iopub.execute_input": "2023-09-08T16:41:20.738269Z",
     "iopub.status.busy": "2023-09-08T16:41:20.737943Z",
     "iopub.status.idle": "2023-09-08T16:42:43.290249Z",
     "shell.execute_reply": "2023-09-08T16:42:43.289207Z"
    },
    "papermill": {
     "duration": 82.561668,
     "end_time": "2023-09-08T16:42:43.292523",
     "exception": false,
     "start_time": "2023-09-08T16:41:20.730855",
     "status": "completed"
    },
    "tags": []
   },
   "outputs": [
    {
     "name": "stdout",
     "output_type": "stream",
     "text": [
      "Epoch 1/20\n",
      "673/673 [==============================] - 14s 6ms/step - loss: 1.8335 - accuracy: 0.3140 - val_loss: 1.6767 - val_accuracy: 0.3675\n",
      "Epoch 2/20\n",
      "673/673 [==============================] - 4s 5ms/step - loss: 1.6579 - accuracy: 0.3784 - val_loss: 1.6154 - val_accuracy: 0.4122\n",
      "Epoch 3/20\n",
      "673/673 [==============================] - 3s 5ms/step - loss: 1.6103 - accuracy: 0.4034 - val_loss: 1.6185 - val_accuracy: 0.4196\n",
      "Epoch 4/20\n",
      "673/673 [==============================] - 4s 5ms/step - loss: 1.5838 - accuracy: 0.4184 - val_loss: 1.5686 - val_accuracy: 0.4295\n",
      "Epoch 5/20\n",
      "673/673 [==============================] - 3s 5ms/step - loss: 1.5647 - accuracy: 0.4321 - val_loss: 1.5579 - val_accuracy: 0.4373\n",
      "Epoch 6/20\n",
      "673/673 [==============================] - 3s 5ms/step - loss: 1.5497 - accuracy: 0.4390 - val_loss: 1.5358 - val_accuracy: 0.4487\n",
      "Epoch 7/20\n",
      "673/673 [==============================] - 4s 5ms/step - loss: 1.5399 - accuracy: 0.4473 - val_loss: 1.5795 - val_accuracy: 0.4402\n",
      "Epoch 8/20\n",
      "673/673 [==============================] - 4s 6ms/step - loss: 1.5219 - accuracy: 0.4565 - val_loss: 1.5495 - val_accuracy: 0.4400\n",
      "Epoch 9/20\n",
      "673/673 [==============================] - 3s 5ms/step - loss: 1.5137 - accuracy: 0.4618 - val_loss: 1.5201 - val_accuracy: 0.4639\n",
      "Epoch 10/20\n",
      "673/673 [==============================] - 4s 5ms/step - loss: 1.5042 - accuracy: 0.4642 - val_loss: 1.5050 - val_accuracy: 0.4634\n",
      "Epoch 11/20\n",
      "673/673 [==============================] - 3s 5ms/step - loss: 1.4981 - accuracy: 0.4692 - val_loss: 1.5164 - val_accuracy: 0.4646\n",
      "Epoch 12/20\n",
      "673/673 [==============================] - 4s 5ms/step - loss: 1.4882 - accuracy: 0.4716 - val_loss: 1.5257 - val_accuracy: 0.4607\n",
      "Epoch 13/20\n",
      "673/673 [==============================] - 4s 5ms/step - loss: 1.4799 - accuracy: 0.4807 - val_loss: 1.5075 - val_accuracy: 0.4717\n",
      "Epoch 14/20\n",
      "673/673 [==============================] - 3s 5ms/step - loss: 1.4743 - accuracy: 0.4816 - val_loss: 1.5035 - val_accuracy: 0.4809\n",
      "Epoch 15/20\n",
      "673/673 [==============================] - 4s 5ms/step - loss: 1.4730 - accuracy: 0.4829 - val_loss: 1.5083 - val_accuracy: 0.4753\n",
      "Epoch 16/20\n",
      "673/673 [==============================] - 3s 5ms/step - loss: 1.4659 - accuracy: 0.4894 - val_loss: 1.5149 - val_accuracy: 0.4642\n",
      "Epoch 17/20\n",
      "673/673 [==============================] - 4s 6ms/step - loss: 1.4623 - accuracy: 0.4912 - val_loss: 1.5034 - val_accuracy: 0.4707\n",
      "Epoch 18/20\n",
      "673/673 [==============================] - 3s 5ms/step - loss: 1.4593 - accuracy: 0.4901 - val_loss: 1.5118 - val_accuracy: 0.4659\n",
      "Epoch 19/20\n",
      "673/673 [==============================] - 3s 5ms/step - loss: 1.4576 - accuracy: 0.4907 - val_loss: 1.4891 - val_accuracy: 0.4851\n",
      "Epoch 20/20\n",
      "673/673 [==============================] - 3s 5ms/step - loss: 1.4510 - accuracy: 0.4910 - val_loss: 1.4982 - val_accuracy: 0.4815\n"
     ]
    }
   ],
   "source": [
    "batch_size = 32\n",
    "epochs = 20\n",
    "history=cnn.fit(x_train, y_train, batch_size=batch_size, epochs=epochs, validation_data=(x_test, y_test))"
   ]
  },
  {
   "cell_type": "code",
   "execution_count": 9,
   "id": "e99b66b1",
   "metadata": {
    "execution": {
     "iopub.execute_input": "2023-09-08T16:42:43.489751Z",
     "iopub.status.busy": "2023-09-08T16:42:43.489409Z",
     "iopub.status.idle": "2023-09-08T16:42:43.859347Z",
     "shell.execute_reply": "2023-09-08T16:42:43.858423Z"
    },
    "papermill": {
     "duration": 0.468221,
     "end_time": "2023-09-08T16:42:43.861832",
     "exception": false,
     "start_time": "2023-09-08T16:42:43.393611",
     "status": "completed"
    },
    "tags": []
   },
   "outputs": [
    {
     "data": {
      "image/png": "[encoded data removed]",
      "text/plain": [
       "<Figure size 640x480 with 1 Axes>"
      ]
     },
     "metadata": {},
     "output_type": "display_data"
    }
   ],
   "source": [
    "\n",
    "\n",
    "# Extract the training and validation loss values from the history object\n",
    "train_loss = history.history['loss']\n",
    "val_loss = history.history['val_loss']\n",
    "\n",
    "# Create a list of epoch numbers (1 to number of epochs)\n",
    "epochs = range(1, len(train_loss) + 1)\n",
    "\n",
    "# Plot the loss graph\n",
    "plt.plot(epochs, train_loss, label='Training Loss')\n",
    "plt.plot(epochs, val_loss, label='Validation Loss')\n",
    "plt.title('Training and Validation Loss')\n",
    "plt.xlabel('Epochs')\n",
    "plt.ylabel('Loss')\n",
    "plt.legend()\n",
    "plt.grid(True)\n",
    "plt.show()\n",
    "\n",
    "\n",
    "\n",
    "\n",
    "\n"
   ]
  },
  {
   "cell_type": "code",
   "execution_count": 10,
   "id": "705c2e07",
   "metadata": {
    "execution": {
     "iopub.execute_input": "2023-09-08T16:42:44.055902Z",
     "iopub.status.busy": "2023-09-08T16:42:44.053932Z",
     "iopub.status.idle": "2023-09-08T16:42:44.923357Z",
     "shell.execute_reply": "2023-09-08T16:42:44.922395Z"
    },
    "papermill": {
     "duration": 0.968302,
     "end_time": "2023-09-08T16:42:44.925578",
     "exception": false,
     "start_time": "2023-09-08T16:42:43.957276",
     "status": "completed"
    },
    "tags": []
   },
   "outputs": [
    {
     "name": "stdout",
     "output_type": "stream",
     "text": [
      "225/225 [==============================] - 1s 3ms/step - loss: 1.4982 - accuracy: 0.4815\n"
     ]
    },
    {
     "data": {
      "text/plain": [
       "[1.4981818199157715, 0.48147115111351013]"
      ]
     },
     "execution_count": 10,
     "metadata": {},
     "output_type": "execute_result"
    }
   ],
   "source": [
    "cnn.evaluate(x_test,y_test)"
   ]
  },
  {
   "cell_type": "code",
   "execution_count": null,
   "id": "30de113d",
   "metadata": {
    "papermill": {
     "duration": 0.095682,
     "end_time": "2023-09-08T16:42:45.124059",
     "exception": false,
     "start_time": "2023-09-08T16:42:45.028377",
     "status": "completed"
    },
    "tags": []
   },
   "outputs": [],
   "source": []
  }
 ],
 "kernelspec": {
  "display_name": "Python 3",
  "language": "python",
  "name": "python3"
 },
 "language_info": {
  "codemirror_mode": {
   "name": "ipython",
   "version": 3
  },
  "file_extension": ".py",
  "mimetype": "text/x-python",
  "name": "python",
  "nbconvert_exporter": "python",
  "pygments_lexer": "ipython3",
  "version": "3.6.4"
 },
 "metadata": {
  "kernelspec": {
   "display_name": "Python 3",
   "language": "python",
   "name": "python3"
  },
  "language_info": {
   "codemirror_mode": {
    "name": "ipython",
    "version": 3
   },
   "file_extension": ".py",
   "mimetype": "text/x-python",
   "name": "python",
   "nbconvert_exporter": "python",
   "pygments_lexer": "ipython3",
   "version": "3.10.12"
  },
  "papermill": {
   "default_parameters": {},
   "duration": 260.944696,
   "end_time": "2023-09-08T16:42:48.794689",
   "environment_variables": {},
   "exception": null,
   "input_path": "__notebook__.ipynb",
   "output_path": "__notebook__.ipynb",
   "parameters": {},
   "start_time": "2023-09-08T16:38:27.849993",
   "version": "2.4.0"
  }
 },
 "nbformat": 4,
 "nbformat_minor": 5
}
